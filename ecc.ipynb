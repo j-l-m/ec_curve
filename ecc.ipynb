{
 "cells": [
  {
   "cell_type": "code",
   "execution_count": 59,
   "metadata": {},
   "outputs": [],
   "source": [
    "import math\n",
    "from random import randint\n",
    "import numpy as np\n",
    "import matplotlib.pyplot as plt"
   ]
  },
  {
   "cell_type": "markdown",
   "metadata": {},
   "source": [
    "### Define a Curve object:\n",
    "Accepts coefficients and modulo of an EC curve as input<br><br>\n",
    "This could have been done better"
   ]
  },
  {
   "cell_type": "code",
   "execution_count": 60,
   "metadata": {},
   "outputs": [],
   "source": [
    "class Curve:\n",
    "    # y^2 = x^3 + ax + b (mod p)\n",
    "    def __init__(self, a, b, p):\n",
    "        self.a = a\n",
    "        self.b = b\n",
    "        self.p = p"
   ]
  },
  {
   "cell_type": "markdown",
   "metadata": {},
   "source": [
    "### Define a Point object:\n",
    "Accepts the coordinate of an EC curve point as points<br>\n",
    "e.g. a pont P has coords (x,y)"
   ]
  },
  {
   "cell_type": "code",
   "execution_count": 61,
   "metadata": {},
   "outputs": [],
   "source": [
    "class Point:\n",
    "\n",
    "    def __init__(self, x, y):\n",
    "        self.x = x\n",
    "        self.y = y\n",
    "\n",
    "    #Check if this point is equal to another point p\n",
    "    #compares the x and y values of each point\n",
    "    def is_equal(self, p):\n",
    "        return (self.x == p.x and self.y == p.y)\n",
    "\n",
    "    #Check if this point is at infinity\n",
    "    def is_infinity(self):\n",
    "        #print(self.x)\n",
    "        return (math.isinf(self.x) or math.isinf(self.y))"
   ]
  },
  {
   "cell_type": "markdown",
   "metadata": {},
   "source": [
    "**Generates a private key** <br>\n",
    "Accepts a Point *p* and Curve *c* <br>\n",
    "Returns a psuedo random private key between *1* and *p-1* where *p* is the modulo system of the curve<br>"
   ]
  },
  {
   "cell_type": "code",
   "execution_count": 62,
   "metadata": {},
   "outputs": [],
   "source": [
    "def getECCPrivateKey(p,c):\n",
    "    return randint(2, c.p - 2 )"
   ]
  },
  {
   "cell_type": "markdown",
   "metadata": {},
   "source": [
    "**Performs point doubling**<br>\n",
    "Accepts 2 Points object *p1, p2* and a Curve *c*\n",
    "This function performs doubling of *p1*. Note *p1* and *p2* should be the same point\n",
    "Returns a point *p3* which is the result of point doubling of *p1*."
   ]
  },
  {
   "cell_type": "code",
   "execution_count": 63,
   "metadata": {},
   "outputs": [],
   "source": [
    "def pointDoubling(c, p1, p2):\n",
    "    p3 = Point(math.inf, math.inf)\n",
    "\n",
    "    if (p1.is_infinity()==True or p2.is_infinity() ==True):\n",
    "        return p3\n",
    "\n",
    "    \n",
    "    if (p1.is_equal(p2)):\n",
    "\n",
    "        m = (3 * p1.x**2 + c.a) * modinv(2 * p1.y, c.p)\n",
    "        m = m % c.p\n",
    "        #print(\"m = {0}\".format(m))\n",
    "        if (not math.isinf(m)):\n",
    "            p3.x = (m**2 - p1.x - p2.x) % c.p\n",
    "            p3.y = (m*(p1.x-p3.x) - p1.y) % c.p\n",
    "\n",
    "    return p3"
   ]
  },
  {
   "cell_type": "markdown",
   "metadata": {},
   "source": [
    "**Create public key from EC curve**<br>\n",
    "Accepts a Curve *c*, Point object *p*, Private key *k*\n",
    "Returns the public key for the curve"
   ]
  },
  {
   "cell_type": "code",
   "execution_count": 64,
   "metadata": {},
   "outputs": [],
   "source": [
    "def getECCPublicKey(c,p,k):\n",
    "\n",
    "    pubK = p\n",
    "    for i in range(1,k):\n",
    "        pubK = pointDoubling(c,pubK,pubK)\n",
    "        #print('x: {0}, y:{1}'.format(pubK.x, pubK.y))\n",
    "    return pubK"
   ]
  },
  {
   "cell_type": "markdown",
   "metadata": {},
   "source": [
    "**Implementation of extended euclidean**"
   ]
  },
  {
   "cell_type": "code",
   "execution_count": 65,
   "metadata": {},
   "outputs": [],
   "source": [
    "def egcd(a, p):\n",
    "    if a==0:\n",
    "        return (p, 0, 1)\n",
    "    else:\n",
    "        g, x, y = egcd(p%a, a)\n",
    "        return (g, y - (p//a)* x, x)"
   ]
  },
  {
   "cell_type": "markdown",
   "metadata": {},
   "source": [
    "**Find the multiplicative inverse of *a(mod)p***"
   ]
  },
  {
   "cell_type": "code",
   "execution_count": 66,
   "metadata": {},
   "outputs": [],
   "source": [
    "def modinv(a, m):\n",
    "    g, x, y = egcd(a, m)\n",
    "    if g != 1:\n",
    "        raise ValueError\n",
    "    return x % m"
   ]
  },
  {
   "cell_type": "markdown",
   "metadata": {},
   "source": [
    "**Sample data**"
   ]
  },
  {
   "cell_type": "code",
   "execution_count": 67,
   "metadata": {},
   "outputs": [],
   "source": [
    "c = Curve(1,1,23) #a curve C defined as y = x^3 + x + 1 (mod 23)\n",
    "p = Point(9,7)    #a point P = (9,7)"
   ]
  },
  {
   "cell_type": "code",
   "execution_count": 68,
   "metadata": {},
   "outputs": [],
   "source": [
    "#get random private key\n",
    "k = getECCPrivateKey(p,c)"
   ]
  },
  {
   "cell_type": "code",
   "execution_count": 69,
   "metadata": {},
   "outputs": [
    {
     "name": "stdout",
     "output_type": "stream",
     "text": [
      "Private Key = 3\n"
     ]
    }
   ],
   "source": [
    "#print private key\n",
    "print(\"Private Key = {0}\".format(k))"
   ]
  },
  {
   "cell_type": "code",
   "execution_count": 70,
   "metadata": {},
   "outputs": [],
   "source": [
    "#generate a public key\n",
    "pubK = getECCPublicKey(c,p,k)"
   ]
  },
  {
   "cell_type": "code",
   "execution_count": 71,
   "metadata": {},
   "outputs": [
    {
     "name": "stdout",
     "output_type": "stream",
     "text": [
      "Public key = ( x: 13, y:16 )\n"
     ]
    }
   ],
   "source": [
    "#print public key\n",
    "print('Public key = ( x: {0}, y:{1} )'.format(pubK.x, pubK.y))"
   ]
  },
  {
   "cell_type": "markdown",
   "metadata": {},
   "source": [
    "### Generate plot of elliptic curve"
   ]
  },
  {
   "cell_type": "code",
   "execution_count": 79,
   "metadata": {},
   "outputs": [
    {
     "data": {
      "image/png": "[encoded data removed]",
      "text/plain": [
       "<Figure size 432x288 with 1 Axes>"
      ]
     },
     "metadata": {
      "needs_background": "light"
     },
     "output_type": "display_data"
    }
   ],
   "source": [
    "fig, ax = plt.subplots()\n",
    "xlist = np.linspace(-10, 10, 100)\n",
    "ylist = np.linspace(-10, 10, 100)\n",
    "X,Y = np.meshgrid(xlist, ylist)\n",
    "#y^2 = x^3 + ax + b (mod p)\n",
    "plt.contour(X, Y, pow(Y,2) - pow(X,3) - X * 1 - 1, [0])\n",
    "plt.grid()\n",
    "ax.axhline(y=0, color=\"k\")\n",
    "ax.axvline(x=0, color=\"k\")\n",
    "plt.show()"
   ]
  }
 ],
 "metadata": {
  "kernelspec": {
   "display_name": "Python 3",
   "language": "python",
   "name": "python3"
  },
  "language_info": {
   "codemirror_mode": {
    "name": "ipython",
    "version": 3
   },
   "file_extension": ".py",
   "mimetype": "text/x-python",
   "name": "python",
   "nbconvert_exporter": "python",
   "pygments_lexer": "ipython3",
   "version": "3.6.9"
  }
 },
 "nbformat": 4,
 "nbformat_minor": 4
}
